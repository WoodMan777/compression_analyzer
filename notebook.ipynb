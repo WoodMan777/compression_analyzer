{
 "cells": [
  {
   "cell_type": "code",
   "execution_count": 1,
   "id": "134a53ac",
   "metadata": {},
   "outputs": [],
   "source": [
    "import numpy as np\n",
    "import pandas as pd"
   ]
  },
  {
   "cell_type": "code",
   "execution_count": 38,
   "id": "ed0b58c2",
   "metadata": {},
   "outputs": [],
   "source": [
    "def getFastBinString(binf):\n",
    "    res = \"\"\n",
    "    vecmul = np.array([128,64,32,16,8,4,2,1])\n",
    "    for i in binf:\n",
    "        tmp = vecmul&i\n",
    "\n",
    "def getBinString(binf):\n",
    "    res = \"\"\n",
    "    vecmul = np.array([128,64,32,16,8,4,2,1])\n",
    "    for i in range(len(binf)):\n",
    "        tmp = \"\"\n",
    "        for j in range(8):\n",
    "            #print(f'current number is: {48 + ((binf[i] >> (7-j))&1)}')\n",
    "            tmp += chr(48 + ((binf[i] >> (7-j))&1))\n",
    "        res += tmp\n",
    "    \n",
    "    return res\n",
    "            "
   ]
  },
  {
   "cell_type": "code",
   "execution_count": 21,
   "id": "2cc64246",
   "metadata": {},
   "outputs": [],
   "source": [
    "file = open(\"C:\\\\Users\\\\WDMFR\\\\OneDrive\\\\Рабочий стол\\\\file.json\", 'rb')\n",
    "file = file.read()"
   ]
  },
  {
   "cell_type": "code",
   "execution_count": 39,
   "id": "8fee32ff",
   "metadata": {},
   "outputs": [],
   "source": [
    "b = getBinString(file)"
   ]
  },
  {
   "cell_type": "code",
   "execution_count": 23,
   "id": "0f089a3b",
   "metadata": {},
   "outputs": [
    {
     "data": {
      "text/plain": [
       "454475"
      ]
     },
     "execution_count": 23,
     "metadata": {},
     "output_type": "execute_result"
    }
   ],
   "source": [
    "len(file)"
   ]
  },
  {
   "cell_type": "code",
   "execution_count": 25,
   "id": "8df6a696",
   "metadata": {},
   "outputs": [
    {
     "ename": "IndexError",
     "evalue": "index out of range",
     "output_type": "error",
     "traceback": [
      "\u001b[1;31m---------------------------------------------------------------------------\u001b[0m",
      "\u001b[1;31mIndexError\u001b[0m                                Traceback (most recent call last)",
      "Cell \u001b[1;32mIn[25], line 1\u001b[0m\n\u001b[1;32m----> 1\u001b[0m file[\u001b[38;5;241m454475\u001b[39m]\n",
      "\u001b[1;31mIndexError\u001b[0m: index out of range"
     ]
    }
   ],
   "source": [
    "file[454475]"
   ]
  },
  {
   "cell_type": "code",
   "execution_count": 44,
   "id": "40b2feb9",
   "metadata": {},
   "outputs": [
    {
     "data": {
      "text/plain": [
       "'0111101100001101000010100010000000100000001000100100110101101111011100110110000101101001011000110011000000100010001110100010000001111011000011010000101000100000001000000010000000100000001000100110001001101100011011110110001101101011010100110110100101111010'"
      ]
     },
     "execution_count": 44,
     "metadata": {},
     "output_type": "execute_result"
    }
   ],
   "source": [
    "b[:256]"
   ]
  }
 ],
 "metadata": {
  "kernelspec": {
   "display_name": "Python 3 (ipykernel)",
   "language": "python",
   "name": "python3"
  },
  "language_info": {
   "codemirror_mode": {
    "name": "ipython",
    "version": 3
   },
   "file_extension": ".py",
   "mimetype": "text/x-python",
   "name": "python",
   "nbconvert_exporter": "python",
   "pygments_lexer": "ipython3",
   "version": "3.11.5"
  }
 },
 "nbformat": 4,
 "nbformat_minor": 5
}
